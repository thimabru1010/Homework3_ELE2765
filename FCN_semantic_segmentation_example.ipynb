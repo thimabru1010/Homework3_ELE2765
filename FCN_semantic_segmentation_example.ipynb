{
 "cells": [
  {
   "cell_type": "markdown",
   "metadata": {
    "colab_type": "text",
    "id": "hKA9f8O0_dkM"
   },
   "source": [
    "# **Semantic Segmentation Exercise**\n",
    "\n",
    "Application: Change detection\n",
    "\n",
    "Dataset:\n",
    "Two images acquired at two different dates\n",
    "Region of Cerrado Biome\n",
    "\n",
    "Sensor: Landsat 8\n",
    "\n",
    "Bands: 7 (each image)\n",
    "\n",
    "Spatial Resolution: 30m x 30m\n",
    "\n",
    "Image size: 1700 x 1440 px\n",
    "\n",
    "![dataset](https://drive.google.com/uc?id=1vq8jZ4Y7v2uA2HamsEXeyVY-auKucC2c)"
   ]
  },
  {
   "cell_type": "code",
   "execution_count": 1,
   "metadata": {
    "colab": {
     "base_uri": "https://localhost:8080/",
     "height": 34
    },
    "colab_type": "code",
    "id": "5uJOK0Z4oPdn",
    "outputId": "5316ac68-70c5-4c8e-8d78-1908047cd0a8"
   },
   "outputs": [],
   "source": [
    "# from google.colab import drive\n",
    "# # mount your Google Drive\n",
    "# drive.mount('/content/drive', force_remount=True)\n",
    "root_path = '/media/thimabru/ssd/Deep_Learning_aula/Homework3_ELE2765/FCN_Exercise_Data/' "
   ]
  },
  {
   "cell_type": "code",
   "execution_count": 2,
   "metadata": {
    "colab": {},
    "colab_type": "code",
    "id": "5daTsmUfnJmo"
   },
   "outputs": [],
   "source": [
    "# Import libraries\n",
    "import numpy as np\n",
    "import tensorflow as tf\n",
    "import matplotlib.pyplot as plt\n",
    "from tensorflow.keras.layers import Input, Activation, Dense, Conv2D, MaxPool2D, Dropout, concatenate, UpSampling2D, Flatten\n",
    "from tensorflow.keras.models import Model, load_model, Sequential\n",
    "from sklearn.utils import shuffle\n",
    "from tensorflow.keras.optimizers import Adam\n",
    "from sklearn.metrics import confusion_matrix, f1_score, precision_score, recall_score, accuracy_score\n",
    "import tensorflow.keras.backend as K\n",
    "\n",
    "def load_tiff_image(image):\n",
    "  print (image)\n",
    "  gdal_header = gdal.Open(image)\n",
    "  img = gdal_header.ReadAsArray()\n",
    "  return img\n",
    "\n",
    "def FCN(input_shape, n_classes):\n",
    "  input_img = Input(input_shape)\n",
    "  f1 = 16\n",
    "  conv1 = Conv2D(f1 , (3 , 3) , activation='relu' , padding='same', name = 'conv1')(input_img) \n",
    "  pool1 = MaxPool2D((2 , 2))(conv1)\n",
    "\n",
    "  conv2 = Conv2D(f1*2 , (3 , 3) , activation='relu' , padding='same', name = 'conv2')(pool1)\n",
    "  pool2 = MaxPool2D((2 , 2))(conv2)\n",
    "\n",
    "  conv3 = Conv2D(f1*4 , (3 , 3) , activation='relu' , padding='same', name = 'conv3')(pool2)\n",
    "  pool3 = MaxPool2D((2 , 2))(conv3)\n",
    "\n",
    "  conv4 = Conv2D(f1*8 , (3 , 3) , activation='relu' , padding='same', name = 'conv4')(pool3)\n",
    "\n",
    "  upsample1 = Conv2D(f1*4, (3 , 3), activation = 'relu', padding = 'same', name = 'upsampling1')(UpSampling2D(size = (2,2))(conv4))\n",
    "\n",
    "  upsample2 = Conv2D(f1*2, (3 , 3), activation = 'relu', padding = 'same', name = 'upsampling2')(UpSampling2D(size = (2,2))(upsample1))\n",
    "\n",
    "  upsample3 = Conv2D(f1, (3 , 3), activation = 'relu', padding = 'same', name = 'upsampling3')(UpSampling2D(size = (2,2))(upsample2))\n",
    "  \n",
    "  output = Conv2D(n_classes,(1,1), activation = 'softmax')(upsample3)\n",
    "  return Model(input_img , output) \n",
    "\n",
    "def weighted_categorical_crossentropy(weights):\n",
    "  \"\"\"\n",
    "  A weighted version of keras.objectives.categorical_crossentropy\n",
    "  \n",
    "  Variables:\n",
    "      weights: numpy array of shape (C,) where C is the number of classes\n",
    "  \n",
    "  Usage:\n",
    "      weights = np.array([0.5,2,10]) # Class one at 0.5, class 2 twice the normal weights, class 3 10x.\n",
    "      loss = weighted_categorical_crossentropy(weights)\n",
    "      model.compile(loss=loss,optimizer='adam')\n",
    "  \"\"\"\n",
    "  weights = K.variable(weights)\n",
    "  def loss(y_true, y_pred):\n",
    "    # scale predictions so that the class probas of each sample sum to 1\n",
    "    y_pred /= K.sum(y_pred, axis=-1, keepdims=True)\n",
    "    # clip to prevent NaN's and Inf's\n",
    "    y_pred = K.clip(y_pred, K.epsilon(), 1 - K.epsilon())\n",
    "    loss = y_true * K.log(y_pred) + (1-y_true) * K.log(1-y_pred)\n",
    "    loss = loss * weights \n",
    "    loss = - K.mean(loss, -1)\n",
    "    return loss\n",
    "  return loss\n",
    "\n",
    "def Train_model(net, patches_train, patches_tr_lb_h, batch_size, epochs, filepath, name):\n",
    "  print('Start training.. ')\n",
    "  for epoch in range(epochs):\n",
    "\n",
    "    loss_tr = np.zeros((1 , 2))\n",
    "    #Computing the number of batchs\n",
    "    n_batchs_tr = patches_train.shape[0]//batch_size\n",
    "    \n",
    "    #Random shuffle the data\n",
    "    patches_train , patches_tr_lb_h = shuffle(patches_train , patches_tr_lb_h , random_state = 0)\n",
    "        \n",
    "    # Training the network per batch\n",
    "    for  batch in range(n_batchs_tr):\n",
    "                \n",
    "      x_train_b = patches_train[batch * batch_size : (batch + 1) * batch_size , : , : , :]\n",
    "      y_train_h_b = patches_tr_lb_h[batch * batch_size : (batch + 1) * batch_size , :, :, :]\n",
    "      \n",
    "      loss_tr = loss_tr + net.train_on_batch(x_train_b , y_train_h_b)\n",
    "    \n",
    "    # Training loss\n",
    "    loss_tr = loss_tr/n_batchs_tr\n",
    "    \n",
    "    print(\"%d [training loss: %f , Train acc.: %.2f%%]\" %(epoch , loss_tr[0 , 0], 100*loss_tr[0 , 1]))\n",
    "  # saving model    \n",
    "    net.save(filepath+name+'.h5')\n",
    "\n",
    "def Test(model, patch_test):\n",
    "  result = model.predict(patch_test)\n",
    "  predicted_class = np.argmax(result, axis=-1)\n",
    "  return predicted_class\n",
    "\n",
    "def compute_metrics(true_labels, predicted_labels):\n",
    "  accuracy = 100*accuracy_score(true_labels, predicted_labels)\n",
    "  f1score = 100*f1_score(true_labels, predicted_labels, average=None)\n",
    "  recall = 100*recall_score(true_labels, predicted_labels, average=None)\n",
    "  precision = 100*precision_score(true_labels, predicted_labels, average=None)\n",
    "  return accuracy, f1score, recall, precision"
   ]
  },
  {
   "cell_type": "markdown",
   "metadata": {
    "colab_type": "text",
    "id": "XaMq5XBd7NOA"
   },
   "source": [
    "# **Load data**"
   ]
  },
  {
   "cell_type": "code",
   "execution_count": 3,
   "metadata": {
    "colab": {
     "base_uri": "https://localhost:8080/",
     "height": 52
    },
    "colab_type": "code",
    "id": "e4_idaoq7WbS",
    "outputId": "35def9e6-b87a-477d-d2d0-706791053e6c"
   },
   "outputs": [
    {
     "name": "stdout",
     "output_type": "stream",
     "text": [
      "(324, 128, 128, 14)\n",
      "(324, 128, 128)\n"
     ]
    }
   ],
   "source": [
    "patches_tr = np.load(root_path+'tr_patches.npy')\n",
    "patches_tr_ref = np.load(root_path+'tr_ref.npy')\n",
    "print(patches_tr.shape)\n",
    "print(patches_tr_ref.shape)"
   ]
  },
  {
   "cell_type": "code",
   "execution_count": 4,
   "metadata": {
    "colab": {
     "base_uri": "https://localhost:8080/",
     "height": 34
    },
    "colab_type": "code",
    "id": "pOjiZUcqJuzj",
    "outputId": "e83f3b1c-f6d4-4b99-e205-2c44adce69c2"
   },
   "outputs": [
    {
     "name": "stdout",
     "output_type": "stream",
     "text": [
      "(324, 128, 128, 2)\n"
     ]
    }
   ],
   "source": [
    "# One hot enconding\n",
    "number_class = 2\n",
    "patches_tr_ref_h = tf.keras.utils.to_categorical(patches_tr_ref, number_class)\n",
    "print(patches_tr_ref_h.shape)\n",
    "patches_tr , patches_tr_ref_h = shuffle(patches_tr , patches_tr_ref_h , random_state = 0)"
   ]
  },
  {
   "cell_type": "code",
   "execution_count": 5,
   "metadata": {
    "colab": {
     "base_uri": "https://localhost:8080/",
     "height": 34
    },
    "colab_type": "code",
    "id": "WM-nrl4W8wAI",
    "outputId": "fb58d574-e550-4223-8ddb-dd3daeb9377a"
   },
   "outputs": [
    {
     "name": "stdout",
     "output_type": "stream",
     "text": [
      "[1.04, 24.14]\n"
     ]
    }
   ],
   "source": [
    "# Set weights\n",
    "weights = [1.04, 24.14]\n",
    "#weights = weights/np.sum(weights)\n",
    "print(weights)"
   ]
  },
  {
   "cell_type": "markdown",
   "metadata": {
    "colab_type": "text",
    "id": "DEGPdx1nadzQ"
   },
   "source": [
    "# **Train model**"
   ]
  },
  {
   "cell_type": "code",
   "execution_count": 9,
   "metadata": {
    "colab": {},
    "colab_type": "code",
    "id": "jzT5Hpfqh-xL"
   },
   "outputs": [],
   "source": [
    "# Parameters\n",
    "batch_size = 32\n",
    "epochs = 10\n",
    "channels = 14\n",
    "patch_size = 128\n",
    "number_class = 2\n",
    "filepath = root_path\n",
    "name = 'model'"
   ]
  },
  {
   "cell_type": "code",
   "execution_count": 10,
   "metadata": {
    "colab": {
     "base_uri": "https://localhost:8080/",
     "height": 868
    },
    "colab_type": "code",
    "id": "_H6Y4Tpgw3Jj",
    "outputId": "fdc38990-c90e-453a-c8cc-319e7334f013"
   },
   "outputs": [
    {
     "name": "stdout",
     "output_type": "stream",
     "text": [
      "Model: \"model\"\n",
      "_________________________________________________________________\n",
      "Layer (type)                 Output Shape              Param #   \n",
      "=================================================================\n",
      "input_1 (InputLayer)         [(None, 128, 128, 14)]    0         \n",
      "_________________________________________________________________\n",
      "conv1 (Conv2D)               (None, 128, 128, 16)      2032      \n",
      "_________________________________________________________________\n",
      "max_pooling2d (MaxPooling2D) (None, 64, 64, 16)        0         \n",
      "_________________________________________________________________\n",
      "conv2 (Conv2D)               (None, 64, 64, 32)        4640      \n",
      "_________________________________________________________________\n",
      "max_pooling2d_1 (MaxPooling2 (None, 32, 32, 32)        0         \n",
      "_________________________________________________________________\n",
      "conv3 (Conv2D)               (None, 32, 32, 64)        18496     \n",
      "_________________________________________________________________\n",
      "max_pooling2d_2 (MaxPooling2 (None, 16, 16, 64)        0         \n",
      "_________________________________________________________________\n",
      "conv4 (Conv2D)               (None, 16, 16, 128)       73856     \n",
      "_________________________________________________________________\n",
      "up_sampling2d (UpSampling2D) (None, 32, 32, 128)       0         \n",
      "_________________________________________________________________\n",
      "upsampling1 (Conv2D)         (None, 32, 32, 64)        73792     \n",
      "_________________________________________________________________\n",
      "up_sampling2d_1 (UpSampling2 (None, 64, 64, 64)        0         \n",
      "_________________________________________________________________\n",
      "upsampling2 (Conv2D)         (None, 64, 64, 32)        18464     \n",
      "_________________________________________________________________\n",
      "up_sampling2d_2 (UpSampling2 (None, 128, 128, 32)      0         \n",
      "_________________________________________________________________\n",
      "upsampling3 (Conv2D)         (None, 128, 128, 16)      4624      \n",
      "_________________________________________________________________\n",
      "conv2d (Conv2D)              (None, 128, 128, 2)       34        \n",
      "=================================================================\n",
      "Total params: 195,938\n",
      "Trainable params: 195,938\n",
      "Non-trainable params: 0\n",
      "_________________________________________________________________\n",
      "Start training.. \n",
      "0 [training loss: 7.956133 , Train acc.: 71.96%]\n",
      "1 [training loss: 5.467179 , Train acc.: 88.21%]\n",
      "2 [training loss: 4.721450 , Train acc.: 88.29%]\n",
      "3 [training loss: 3.974264 , Train acc.: 88.21%]\n",
      "4 [training loss: 3.366060 , Train acc.: 88.18%]\n",
      "5 [training loss: 2.778414 , Train acc.: 88.50%]\n",
      "6 [training loss: 2.436872 , Train acc.: 92.89%]\n",
      "7 [training loss: 2.141746 , Train acc.: 94.62%]\n",
      "8 [training loss: 1.893660 , Train acc.: 95.09%]\n",
      "9 [training loss: 1.720771 , Train acc.: 95.43%]\n"
     ]
    }
   ],
   "source": [
    "# Train the model\n",
    "adam = Adam(lr = 0.0001 , beta_1=0.9)\n",
    "net = FCN((patch_size, patch_size, channels), number_class)\n",
    "net.summary()\n",
    "loss = weighted_categorical_crossentropy(weights)\n",
    "net.compile(loss = loss,optimizer=adam , metrics=['accuracy'])\n",
    "Train_model(net, patches_tr, patches_tr_ref_h, batch_size, epochs, filepath, name)\n"
   ]
  },
  {
   "cell_type": "markdown",
   "metadata": {
    "colab_type": "text",
    "id": "o-UNuiAB2uEN"
   },
   "source": [
    "# **Test model**"
   ]
  },
  {
   "cell_type": "code",
   "execution_count": 6,
   "metadata": {
    "colab": {
     "base_uri": "https://localhost:8080/",
     "height": 34
    },
    "colab_type": "code",
    "id": "HIbfg05FaZ8e",
    "outputId": "0937e8b2-245d-4490-db3d-b897597652b6"
   },
   "outputs": [
    {
     "name": "stdout",
     "output_type": "stream",
     "text": [
      "(48, 128, 128)\n",
      "[[0. 0. 0. ... 0. 0. 0.]\n",
      " [0. 0. 0. ... 0. 0. 0.]\n",
      " [0. 0. 0. ... 0. 0. 0.]\n",
      " ...\n",
      " [0. 0. 0. ... 0. 0. 0.]\n",
      " [0. 0. 0. ... 0. 0. 0.]\n",
      " [0. 0. 0. ... 0. 0. 0.]]\n",
      "(48, 128, 128)\n"
     ]
    }
   ],
   "source": [
    "patches_ts = np.load(root_path+'ts_patches.npy')\n",
    "patches_ts_ref = np.load(root_path+'ts_ref.npy')\n",
    "print(patches_ts_ref.shape)\n",
    "print(patches_ts_ref[14][:][:])\n",
    "\n",
    "# Test model\n",
    "model = load_model('FCN_Exercise_Data/model.h5', compile=False)\n",
    "patches_pred = Test(model, patches_ts)\n",
    "print(patches_pred.shape)"
   ]
  },
  {
   "cell_type": "markdown",
   "metadata": {
    "colab_type": "text",
    "id": "-yDGXXEnk-id"
   },
   "source": [
    "# **Metrics**"
   ]
  },
  {
   "cell_type": "code",
   "execution_count": 7,
   "metadata": {
    "colab": {
     "base_uri": "https://localhost:8080/",
     "height": 139
    },
    "colab_type": "code",
    "id": "Wqx1TPITjVZs",
    "outputId": "54dd8c93-48b3-4718-f992-936a5ff3b964"
   },
   "outputs": [
    {
     "name": "stdout",
     "output_type": "stream",
     "text": [
      "Confusion  matrix \n",
      " [[737597   7160]\n",
      " [ 14340  27335]]\n",
      "Accuracy:  97.26613362630209\n",
      "F1score:  [98.56350062 71.77366417]\n",
      "Recall:  [99.03861259 65.59088182]\n",
      "Precision:  [98.09292534 79.2433686 ]\n"
     ]
    }
   ],
   "source": [
    "true_labels = np.reshape(patches_ts_ref, (patches_ts_ref.shape[0]* patches_ts_ref.shape[1]*patches_ts_ref.shape[2]))\n",
    "predicted_labels = np.reshape(patches_pred, (patches_pred.shape[0]* patches_pred.shape[1]*patches_pred.shape[2]))\n",
    "\n",
    "metrics = compute_metrics(true_labels, predicted_labels)\n",
    "cm = confusion_matrix(true_labels, predicted_labels)\n",
    "\n",
    "print('Confusion  matrix \\n', cm)\n",
    "print('Accuracy: ', metrics[0])\n",
    "print('F1score: ', metrics[1])\n",
    "print('Recall: ', metrics[2])\n",
    "print('Precision: ', metrics[3])"
   ]
  },
  {
   "cell_type": "markdown",
   "metadata": {
    "colab_type": "text",
    "id": "XaMPVqE5-KCw"
   },
   "source": [
    "# **Visualization**"
   ]
  },
  {
   "cell_type": "code",
   "execution_count": 9,
   "metadata": {
    "colab": {
     "base_uri": "https://localhost:8080/",
     "height": 696
    },
    "colab_type": "code",
    "id": "_msL9SOozVF9",
    "outputId": "0ba76dd4-63a7-478a-a307-389e7fd439ad"
   },
   "outputs": [
    {
     "data": {
      "text/plain": [
       "(-0.5, 127.5, 127.5, -0.5)"
      ]
     },
     "execution_count": 9,
     "metadata": {},
     "output_type": "execute_result"
    },
    {
     "data": {
      "image/png": "[encoded data removed]",
      "text/plain": [
       "<Figure size 1080x1080 with 8 Axes>"
      ]
     },
     "metadata": {
      "needs_background": "light"
     },
     "output_type": "display_data"
    }
   ],
   "source": [
    "fig, ((ax1, ax2, ax3, ax4), (ax5, ax6, ax7,ax8)) = plt.subplots(2, 4, figsize=(15, 15))\n",
    "# Reference\n",
    "ax1.imshow(patches_ts_ref[0,:,:])\n",
    "ax1.set_title('Reference', fontsize=20)\n",
    "ax1.axis('off')\n",
    "ax2.imshow(patches_ts_ref[1,:,:])\n",
    "ax2.set_title('Reference', fontsize=20)\n",
    "ax2.axis('off')\n",
    "ax3.imshow(patches_ts_ref[2,:,:])\n",
    "ax3.set_title('Reference', fontsize=20)\n",
    "ax3.axis('off')\n",
    "ax4.imshow(patches_ts_ref[3,:,:])\n",
    "ax4.set_title('Reference', fontsize=20)\n",
    "ax4.axis('off')\n",
    "\n",
    "# Predictions\n",
    "ax5.imshow(patches_pred[0,:,:])\n",
    "ax5.set_title('Prediction', fontsize=20)\n",
    "ax5.axis('off')\n",
    "ax6.imshow(patches_pred[1,:,:])\n",
    "ax6.set_title('Prediction', fontsize=20)\n",
    "ax6.axis('off')\n",
    "ax7.imshow(patches_pred[2,:,:])\n",
    "ax7.set_title('Prediction', fontsize=20)\n",
    "ax7.axis('off')\n",
    "ax8.imshow(patches_pred[3,:,:])\n",
    "ax8.set_title('Prediction', fontsize=20)\n",
    "ax8.axis('off')"
   ]
  },
  {
   "cell_type": "code",
   "execution_count": 0,
   "metadata": {
    "colab": {},
    "colab_type": "code",
    "id": "h8k172VsfTHK"
   },
   "outputs": [],
   "source": []
  }
 ],
 "metadata": {
  "colab": {
   "collapsed_sections": [],
   "name": "example.ipynb",
   "provenance": []
  },
  "kernelspec": {
   "display_name": "Python 3",
   "language": "python",
   "name": "python3"
  },
  "language_info": {
   "codemirror_mode": {
    "name": "ipython",
    "version": 3
   },
   "file_extension": ".py",
   "mimetype": "text/x-python",
   "name": "python",
   "nbconvert_exporter": "python",
   "pygments_lexer": "ipython3",
   "version": "3.6.9"
  }
 },
 "nbformat": 4,
 "nbformat_minor": 1
}
