{
 "cells": [
  {
   "cell_type": "markdown",
   "metadata": {
    "colab_type": "text",
    "id": "MGhOgDtM9W8c"
   },
   "source": [
    "# **Import the libraries**"
   ]
  },
  {
   "cell_type": "code",
   "execution_count": 1,
   "metadata": {
    "colab": {},
    "colab_type": "code",
    "id": "xE6yP1WF9KlA"
   },
   "outputs": [],
   "source": [
    "import numpy as np\n",
    "import tensorflow as tf\n",
    "import matplotlib.pyplot as plt\n",
    "from osgeo import ogr, gdal\n",
    "from sklearn.utils import shuffle\n",
    "from tensorflow.keras.optimizers import Adam\n",
    "from sklearn.metrics import confusion_matrix, f1_score, precision_score, recall_score, accuracy_score\n",
    "from tensorflow.keras.layers import Input, Activation, Dense, Conv2D, MaxPool2D, Dropout, concatenate, UpSampling2D, Flatten\n",
    "from tensorflow.keras.models import Model, load_model, Sequential\n",
    "import tensorflow.keras.backend as K\n",
    "#from keras.layers.merge import concatenate, add\n",
    "\n",
    "import os\n",
    "from skimage.util.shape import view_as_windows\n",
    "from sklearn.model_selection import train_test_split"
   ]
  },
  {
   "cell_type": "code",
   "execution_count": 2,
   "metadata": {},
   "outputs": [],
   "source": [
    "gpus= tf.config.experimental.list_physical_devices('GPU')\n",
    "tf.config.experimental.set_memory_growth(gpus[0], True)"
   ]
  },
  {
   "cell_type": "markdown",
   "metadata": {
    "colab_type": "text",
    "id": "OckMql719bbO"
   },
   "source": [
    "# **Define the functions**"
   ]
  },
  {
   "cell_type": "code",
   "execution_count": 2,
   "metadata": {
    "colab": {},
    "colab_type": "code",
    "id": "8SK7jWmG9Vpn"
   },
   "outputs": [],
   "source": [
    "def load_tiff_image(image):\n",
    "    print (image)\n",
    "    gdal_header = gdal.Open(image)\n",
    "    img = gdal_header.ReadAsArray()\n",
    "    return img\n",
    "\n",
    "def normalization(image):\n",
    "    return np.array(image)/127.5 - 1.\n",
    "\n",
    "def extract_patches(image, reference, patch_size, stride):\n",
    "    patches_out = []\n",
    "    label_out = []\n",
    "    window_shape = patch_size\n",
    "    window_shape_array = (window_shape, window_shape, image.shape[2])\n",
    "    window_shape_ref = (window_shape, window_shape)\n",
    "    patches_array = np.array(view_as_windows(image, window_shape_array, step = stride))\n",
    "    \n",
    "    patches_ref = np.array(view_as_windows(reference, window_shape_ref, step = stride))\n",
    "    \n",
    "    print(patches_array.shape)\n",
    "    num_row,num_col,p,row,col,depth = patches_array.shape\n",
    "    \n",
    "    patches_array = patches_array.reshape(num_row*num_col,row,col,depth)\n",
    "    print(patches_array.shape)\n",
    "    patches_ref = patches_ref.reshape(num_row*num_col,row,col)\n",
    "    print(patches_ref.shape)\n",
    "    \n",
    "    return patches_array, patches_ref\n",
    "    \n",
    "\n",
    "\n",
    "def unet(input_shape, n_classes):\n",
    "    \n",
    "    input_img = Input(input_shape)\n",
    "    \n",
    "    # You must complete the U-Net architecture\n",
    "    \n",
    "    #Contractive stage\n",
    "    # conv block 1\n",
    "    n_filters = 64\n",
    "    conv1_1 = Conv2D(n_filters , (3 , 3) , activation='relu' , padding='same', name = 'conv1_1')(input_img) \n",
    "    conv1_2 = Conv2D(n_filters , (3 , 3) , activation='relu' , padding='same', name = 'conv1_2')(conv1_1)\n",
    "    pool1 = MaxPool2D((2 , 2), name = 'pool1')(conv1_2)\n",
    "    # conv block 2 -- n_f=128\n",
    "    conv2_1 = Conv2D(n_filters*2 , (3 , 3) , activation='relu' , padding='same', name = 'conv2_1')(pool1) \n",
    "    conv2_2 = Conv2D(n_filters*2, (3 , 3) , activation='relu' , padding='same', name = 'conv2_2')(conv2_1)\n",
    "    pool2 = MaxPool2D((2 , 2), name = 'pool2')(conv2_2)\n",
    "    # conv block 3 -- n_f=256\n",
    "    conv3_1 = Conv2D(n_filters*4 , (3 , 3) , activation='relu' , padding='same', name = 'conv3_1')(pool2) \n",
    "    conv3_2 = Conv2D(n_filters*4, (3 , 3) , activation='relu' , padding='same', name = 'conv3_2')(conv3_1)\n",
    "    pool3 = MaxPool2D((2 , 2), name = 'pool3')(conv3_2)\n",
    "    # conv block 4 -- n_f=512\n",
    "    conv4_1 = Conv2D(n_filters*8 , (3 , 3) , activation='relu' , padding='same', name = 'conv4_1')(pool3) \n",
    "    conv4_2 = Conv2D(n_filters*8, (3 , 3) , activation='relu' , padding='same', name = 'conv4_2')(conv4_1)\n",
    "    pool4 = MaxPool2D((2 , 2), name = 'pool4')(conv4_2)\n",
    "    \n",
    "    # Middle\n",
    "    # conv block 5 n_f=1024\n",
    "    conv5_1 = Conv2D(n_filters*16 , (3 , 3) , activation='relu' , padding='same', name = 'conv5_1')(pool4) \n",
    "    conv5_2 = Conv2D(n_filters*16, (3 , 3) , activation='relu' , padding='same', name = 'conv5_2')(conv5_1)\n",
    "    \n",
    "    # Expansive stage\n",
    "    # Upsampling conv block 1 --  n_f=512\n",
    "    up6 = Conv2D(n_filters*8, (3 , 3), activation = 'relu', padding = 'same', name = 'up6')(UpSampling2D(size = (2,2))(conv5_2))\n",
    "    merge6 = concatenate([conv4_2,up6], axis = 3, name='merge6')\n",
    "    conv6_1 = Conv2D(n_filters*8 , (3 , 3) , activation='relu' , padding='same', name = 'conv6_1')(merge6)\n",
    "    conv6_2 = Conv2D(n_filters*8 , (3 , 3) , activation='relu' , padding='same', name = 'conv6_2')(conv6_1)\n",
    "    \n",
    "    # Upsampling conv block 2 --  n_f=256\n",
    "    up7 = Conv2D(n_filters*4, (3 , 3), activation = 'relu', padding = 'same', name = 'up7')(UpSampling2D(size = (2,2))(conv6_2))\n",
    "    merge7 = concatenate([conv3_2,up7], axis = 3, name='merge7')\n",
    "    conv7_1 = Conv2D(n_filters*4 , (3 , 3) , activation='relu' , padding='same', name = 'conv7_1')(merge7)\n",
    "    conv7_2 = Conv2D(n_filters*4 , (3 , 3) , activation='relu' , padding='same', name = 'conv7_2')(conv7_1)\n",
    "    \n",
    "    # Upsampling conv block 3 --  n_f=128\n",
    "    up8 = Conv2D(n_filters*2, (3 , 3), activation = 'relu', padding = 'same', name = 'up8')(UpSampling2D(size = (2,2))(conv7_2))\n",
    "    merge8 = concatenate([conv2_2,up8], axis = 3, name='merge8')\n",
    "    conv8_1 = Conv2D(n_filters*2 , (3 , 3) , activation='relu' , padding='same', name = 'conv8_1')(merge8)\n",
    "    conv8_2 = Conv2D(n_filters*2 , (3 , 3) , activation='relu' , padding='same', name = 'conv8_2')(conv8_1)\n",
    "    \n",
    "    # Upsampling conv block 4 --  n_f=64\n",
    "    up9 = Conv2D(n_filters, (3 , 3), activation = 'relu', padding = 'same', name = 'up9')(UpSampling2D(size = (2,2))(conv8_2))\n",
    "    merge9 = concatenate([conv1_2,up9], axis = 3, name='merge9')\n",
    "    conv9_1 = Conv2D(n_filters , (3 , 3) , activation='relu' , padding='same', name = 'conv9_1')(merge9)\n",
    "    conv9_2 = Conv2D(n_filters , (3 , 3) , activation='relu' , padding='same', name = 'conv9_2')(conv9_1)\n",
    "    \n",
    "    #conv9_3 = Conv2D(2, (3 , 3) , activation='relu' , padding='same', name = 'conv9_3')(conv9_2)\n",
    "    \n",
    "    # Softmax layer - output\n",
    "    output = Conv2D(n_classes,(1,1), activation = 'softmax')(conv9_2)\n",
    "    return Model(inputs = input_img, outputs = output, name='U-Net') \n",
    "\n",
    "def weighted_categorical_crossentropy(weights):\n",
    "        \"\"\"\n",
    "        A weighted version of keras.objectives.categorical_crossentropy\n",
    "        \n",
    "        Variables:\n",
    "            weights: numpy array of shape (C,) where C is the number of classes\n",
    "        \n",
    "        Usage:\n",
    "            weights = np.array([0.5,2,10]) # Class one at 0.5, class 2 twice the normal weights, class 3 10x.\n",
    "            loss = weighted_categorical_crossentropy(weights)\n",
    "            model.compile(loss=loss,optimizer='adam')\n",
    "        \"\"\"\n",
    "        weights = K.variable(weights)\n",
    "        def loss(y_true, y_pred):\n",
    "            # scale predictions so that the class probas of each sample sum to 1\n",
    "            y_pred /= K.sum(y_pred, axis=-1, keepdims=True)\n",
    "            # clip to prevent NaN's and Inf's\n",
    "            y_pred = K.clip(y_pred, K.epsilon(), 1 - K.epsilon())\n",
    "            loss = y_true * K.log(y_pred) + (1-y_true) * K.log(1-y_pred)\n",
    "            loss = loss * weights \n",
    "            loss = - K.mean(loss, -1)\n",
    "            return loss\n",
    "        return loss\n",
    "\n",
    "def Train_model(net, patches_train, patches_tr_lb_h, patches_val, patches_val_lb_h, batch_size, epochs, patience, delta):\n",
    "    print('Start training...')\n",
    "    print(epochs)\n",
    "    best_score = 0\n",
    "    min_loss = 200\n",
    "    cont = 0\n",
    "    total_train_loss = []\n",
    "    total_train_acc = []\n",
    "    total_val_loss = []\n",
    "    total_val_acc =[]\n",
    "    for epoch in range(epochs):\n",
    "        loss_tr = np.zeros((1 , 2))\n",
    "        loss_val = np.zeros((1 , 2))\n",
    "        # Computing the number of batchs\n",
    "        n_batchs_tr = patches_train.shape[0]//batch_size\n",
    "        # Random shuffle the data\n",
    "        patches_train , patches_tr_lb_h = shuffle(patches_train , patches_tr_lb_h , random_state = 42)\n",
    "\n",
    "        # Training the network per batch\n",
    "        for  batch in range(n_batchs_tr):\n",
    "            x_train_b = patches_train[batch * batch_size : (batch + 1) * batch_size , : , : , :]\n",
    "            y_train_h_b = patches_tr_lb_h[batch * batch_size : (batch + 1) * batch_size , :, :, :]\n",
    "            loss_tr = loss_tr + net.train_on_batch(x_train_b , y_train_h_b)\n",
    "\n",
    "        # Training loss\n",
    "        loss_tr = loss_tr/n_batchs_tr\n",
    "        #print(\"%d [Training loss: %f , Train acc.: %.2f%%]\" %(epoch , loss_tr[0 , 0], 100*loss_tr[0 , 1]))\n",
    "\n",
    "        # Computing the number of batchs\n",
    "        n_batchs_val = patches_val.shape[0]//batch_size\n",
    "\n",
    "        # Evaluating the model in the validation set\n",
    "        for  batch in range(n_batchs_val):\n",
    "            x_val_b = patches_val[batch * batch_size : (batch + 1) * batch_size , : , : , :]\n",
    "            y_val_h_b = patches_val_lb_h[batch * batch_size : (batch + 1) * batch_size , :, :, :]\n",
    "            loss_val = loss_val + net.test_on_batch(x_val_b , y_val_h_b)\n",
    "\n",
    "        # validation loss\n",
    "        loss_val = loss_val/n_batchs_val\n",
    "        #print(\"%d [Validation loss: %f , Validation acc.: %.2f%%]\" %(epoch , loss_val[0 , 0], 100*loss_val[0 , 1]))\n",
    "        train_loss = loss_tr[0 , 0]\n",
    "        train_acc = loss_tr[0 , 1]\n",
    "        val_loss = loss_val[0 , 0]\n",
    "        val_acc = loss_val[0 , 1]\n",
    "        total_train_loss.append(train_loss)\n",
    "        total_train_acc.append(train_acc)\n",
    "        total_val_loss.append(val_loss)\n",
    "        total_val_acc.append(val_acc)\n",
    "        print(f\"Epoch: {epoch} \\t Training loss: {train_loss :.2f} \\t Train acc.: {100*train_acc:.2f}% \\t Validation loss: {val_loss :.2f} \\t Validation acc.: {100*val_acc:.2f}%\")\n",
    "        # Add early stop\n",
    "        # Save the model when loss is minimum\n",
    "        # Stop the training if the loss don't decreases after patience epochs\n",
    "        if val_loss >= min_loss + delta:\n",
    "            cont += 1\n",
    "            print(f'EarlyStopping counter: {cont} out of {patience}')\n",
    "            if cont >= patience:\n",
    "                print(\"Early Stopping! \\t Training Stopped\")\n",
    "                print(\"Saving model...\")\n",
    "                net.save('weights/model_early_stopping.h5')\n",
    "                return total_train_loss, total_train_acc, total_val_loss, total_val_acc   \n",
    "        else:\n",
    "            cont = 0\n",
    "            #best_score = score\n",
    "            min_loss = val_loss\n",
    "            print(\"Saving best model...\")\n",
    "            net.save('weights/best_model.h5')\n",
    "            \n",
    "    return total_train_loss, total_train_acc, total_val_loss, total_val_acc"
   ]
  },
  {
   "cell_type": "markdown",
   "metadata": {},
   "source": [
    "## Load Images"
   ]
  },
  {
   "cell_type": "code",
   "execution_count": 4,
   "metadata": {
    "colab": {},
    "colab_type": "code",
    "id": "4osv4Y9DDTm7"
   },
   "outputs": [
    {
     "name": "stdout",
     "output_type": "stream",
     "text": [
      "./Image_Train.tif\n",
      "(3, 2565, 1919)\n",
      "(2565, 1919, 3)\n",
      "./Reference_Train.tif\n",
      "(2565, 1919, 3)\n"
     ]
    }
   ],
   "source": [
    "root_path = './'\n",
    "# Load images\n",
    "img_train_path = 'Image_Train.tif'\n",
    "img_train = load_tiff_image(os.path.join(root_path, img_train_path)).astype(np.float32)\n",
    "# Normalizes the image\n",
    "print(img_train.shape)\n",
    "img_train_normalized = normalization(img_train)\n",
    "# Transform the image into W x H x C shape\n",
    "img_train_normalized = img_train_normalized.transpose((1,2,0))\n",
    "print(img_train_normalized.shape)\n",
    "\n",
    "# Load reference\n",
    "img_train_ref_path = 'Reference_Train.tif'\n",
    "img_train_ref = load_tiff_image(os.path.join(root_path, img_train_ref_path))\n",
    "img_train_ref = img_train_ref.transpose((1,2,0))\n",
    "print(img_train_ref.shape)"
   ]
  },
  {
   "cell_type": "code",
   "execution_count": 5,
   "metadata": {},
   "outputs": [
    {
     "name": "stdout",
     "output_type": "stream",
     "text": [
      "dict_keys(['(255, 255, 255)', '(0, 255, 0)', '(0, 255, 255)', '(0, 0, 255)', '(255, 255, 0)'])\n"
     ]
    }
   ],
   "source": [
    "# Create binarized matrix\n",
    "w = img_train_ref.shape[0]\n",
    "h = img_train_ref.shape[1]\n",
    "c = img_train_ref.shape[2]\n",
    "#binary_img_train_ref = np.zeros((1,w,h))\n",
    "binary_img_train_ref = np.full((w,h), -1)\n",
    "label_dict = {'(255, 255, 255)': 0, '(0, 255, 0)': 1, '(0, 255, 255)': 2, '(0, 0, 255)': 3, '(255, 255, 0)': 4}\n",
    "for i in range(w):\n",
    "    for j in range(h):\n",
    "        r = img_train_ref[i][j][0]\n",
    "        g = img_train_ref[i][j][1]\n",
    "        b = img_train_ref[i][j][2]\n",
    "        rgb = (r,g,b)\n",
    "        rgb_key = str(rgb)\n",
    "        binary_img_train_ref[i][j] = label_dict[rgb_key]"
   ]
  },
  {
   "cell_type": "code",
   "execution_count": 7,
   "metadata": {},
   "outputs": [],
   "source": [
    "# # Uncomment this if you want to check binary_img_train_ref\n",
    "# for i in range(w):\n",
    "#     for j in range(h):\n",
    "#         pixel = binary_img_train_ref[i][j]\n",
    "#         if pixel == -1:\n",
    "#             print('achou')\n",
    "#         if pixel == 5:\n",
    "#             print('achou 5 wtf')"
   ]
  },
  {
   "cell_type": "markdown",
   "metadata": {},
   "source": [
    "## Separate pixels per class"
   ]
  },
  {
   "cell_type": "code",
   "execution_count": 8,
   "metadata": {},
   "outputs": [
    {
     "name": "stdout",
     "output_type": "stream",
     "text": [
      "{0: 1132698, 1: 1653521, 2: 1255273, 3: 867583, 4: 13160}\n"
     ]
    }
   ],
   "source": [
    "pixels_per_class = {0:0, 1:0, 2:0, 3:0, 4:0}\n",
    "for i in range(w):\n",
    "    for j in range(h):\n",
    "        class_pixel = binary_img_train_ref[i][j]\n",
    "        if class_pixel == 0:\n",
    "            pixels_per_class[0] += 1\n",
    "        elif class_pixel == 1:\n",
    "            pixels_per_class[1] += 1\n",
    "        elif class_pixel == 2:\n",
    "            pixels_per_class[2] += 1\n",
    "        elif class_pixel == 3:\n",
    "            pixels_per_class[3] += 1\n",
    "        elif class_pixel == 4:\n",
    "            pixels_per_class[4] += 1\n",
    "\n",
    "print(pixels_per_class)"
   ]
  },
  {
   "cell_type": "markdown",
   "metadata": {},
   "source": [
    "## Extract Patches"
   ]
  },
  {
   "cell_type": "code",
   "execution_count": 9,
   "metadata": {
    "colab": {},
    "colab_type": "code",
    "id": "4osv4Y9DDTm7"
   },
   "outputs": [
    {
     "name": "stdout",
     "output_type": "stream",
     "text": [
      "(159, 118, 1, 32, 32, 3)\n",
      "(18762, 32, 32, 3)\n",
      "(18762, 32, 32)\n"
     ]
    },
    {
     "name": "stderr",
     "output_type": "stream",
     "text": [
      "/home/thimabru/.virtualenvs/base/lib/python3.6/site-packages/skimage/util/shape.py:247: RuntimeWarning: Cannot provide views on a non-contiguous input array without copying.\n",
      "  warn(RuntimeWarning(\"Cannot provide views on a non-contiguous input \"\n"
     ]
    }
   ],
   "source": [
    "patch_size = 32\n",
    "stride = patch_size // 2\n",
    "#stride = patch_size\n",
    "patches_train, patches_train_ref = extract_patches(img_train_normalized, binary_img_train_ref, patch_size, stride)"
   ]
  },
  {
   "cell_type": "markdown",
   "metadata": {},
   "source": [
    "## Parameters"
   ]
  },
  {
   "cell_type": "code",
   "execution_count": 10,
   "metadata": {},
   "outputs": [],
   "source": [
    "root_path = './'\n",
    "batch_size = 32\n",
    "epochs = 100\n",
    "channels = 3\n",
    "num_classes = 5\n",
    "filepath = root_path\n",
    "name = 'U-Net'"
   ]
  },
  {
   "cell_type": "markdown",
   "metadata": {},
   "source": [
    "## One hot enconding"
   ]
  },
  {
   "cell_type": "code",
   "execution_count": 11,
   "metadata": {
    "colab": {},
    "colab_type": "code",
    "id": "4osv4Y9DDTm7"
   },
   "outputs": [],
   "source": [
    "patches_train_ref_h = tf.keras.utils.to_categorical(patches_train_ref, num_classes)\n",
    "patches_tr , patches_tr_ref_h = shuffle(patches_train , patches_train_ref_h , random_state = 42)"
   ]
  },
  {
   "cell_type": "code",
   "execution_count": 12,
   "metadata": {
    "colab": {},
    "colab_type": "code",
    "id": "4osv4Y9DDTm7"
   },
   "outputs": [
    {
     "name": "stdout",
     "output_type": "stream",
     "text": [
      "(15009, 32, 32, 3) (3753, 32, 32, 3)\n",
      "(15009, 32, 32, 5) (3753, 32, 32, 5)\n"
     ]
    }
   ],
   "source": [
    "patches_train, patches_val, patches_tr_lb_h, patches_val_lb_h = train_test_split(patches_tr, patches_tr_ref_h, test_size=0.2, random_state=42)\n",
    "print(patches_train.shape, patches_val.shape)\n",
    "print(patches_tr_lb_h.shape, patches_val_lb_h.shape)"
   ]
  },
  {
   "cell_type": "markdown",
   "metadata": {},
   "source": [
    "## Set weights of weighted ategorical crossentropy"
   ]
  },
  {
   "cell_type": "code",
   "execution_count": null,
   "metadata": {
    "colab": {},
    "colab_type": "code",
    "id": "4osv4Y9DDTm7"
   },
   "outputs": [],
   "source": [
    "total_pixels = img_train_normalized.shape[0] * img_train_normalized.shape[1]\n",
    "#total_pixels = 2565*1919\n",
    "num_classes=5\n",
    "weights = np.zeros(num_classes)\n",
    "for i in range(num_classes):\n",
    "    weights[i] = total_pixels / pixels_per_class[i]\n",
    "    \n",
    "# weights_sum = np.sum(weights)\n",
    "# for i in range(num_classes):\n",
    "#     weights[i] = weights[i] / weights_sum\n",
    "    \n",
    "print(weights)\n",
    "print(np.sum(weights))"
   ]
  },
  {
   "cell_type": "markdown",
   "metadata": {},
   "source": [
    "## Train the model"
   ]
  },
  {
   "cell_type": "markdown",
   "metadata": {
    "colab": {},
    "colab_type": "code",
    "id": "4osv4Y9DDTm7",
    "scrolled": true
   },
   "source": [
    "adam = Adam(lr = 1e-4, beta_1=0.9, beta_2=0.999)\n",
    "input_shape = (patch_size, patch_size, channels)\n",
    "net = unet(input_shape, num_classes)\n",
    "loss = weighted_categorical_crossentropy(weights)\n",
    "net.summary()\n",
    "net.compile(loss = loss, optimizer=adam , metrics=['accuracy'])"
   ]
  },
  {
   "cell_type": "code",
   "execution_count": 14,
   "metadata": {
    "scrolled": true
   },
   "outputs": [
    {
     "name": "stdout",
     "output_type": "stream",
     "text": [
      "Start training...\n",
      "100\n",
      "Epoch: 0 \t Training loss: 3.98 \t Train acc.: 31.31% \t Validation loss: 2.94 \t Validation acc.: 34.88%\n",
      "Saving best model...\n",
      "Epoch: 1 \t Training loss: 2.78 \t Train acc.: 34.10% \t Validation loss: 2.46 \t Validation acc.: 35.82%\n",
      "Saving best model...\n",
      "Epoch: 2 \t Training loss: 2.47 \t Train acc.: 45.03% \t Validation loss: 2.15 \t Validation acc.: 47.20%\n",
      "Saving best model...\n",
      "Epoch: 3 \t Training loss: 2.09 \t Train acc.: 59.18% \t Validation loss: 2.37 \t Validation acc.: 61.68%\n",
      "EarlyStopping counter: 1 out of 10\n",
      "Epoch: 4 \t Training loss: 1.86 \t Train acc.: 66.81% \t Validation loss: 1.72 \t Validation acc.: 70.69%\n",
      "Saving best model...\n",
      "Epoch: 5 \t Training loss: 1.68 \t Train acc.: 70.00% \t Validation loss: 1.52 \t Validation acc.: 72.74%\n",
      "Saving best model...\n",
      "Epoch: 6 \t Training loss: 1.48 \t Train acc.: 71.57% \t Validation loss: 1.27 \t Validation acc.: 73.67%\n",
      "Saving best model...\n",
      "Epoch: 7 \t Training loss: 1.38 \t Train acc.: 73.59% \t Validation loss: 1.18 \t Validation acc.: 75.06%\n",
      "Saving best model...\n",
      "Epoch: 8 \t Training loss: 1.32 \t Train acc.: 73.94% \t Validation loss: 1.21 \t Validation acc.: 75.72%\n",
      "EarlyStopping counter: 1 out of 10\n",
      "Epoch: 9 \t Training loss: 1.20 \t Train acc.: 75.70% \t Validation loss: 1.18 \t Validation acc.: 77.35%\n",
      "Saving best model...\n",
      "Epoch: 10 \t Training loss: 1.26 \t Train acc.: 75.59% \t Validation loss: 1.43 \t Validation acc.: 68.76%\n",
      "EarlyStopping counter: 1 out of 10\n",
      "Epoch: 11 \t Training loss: 1.18 \t Train acc.: 75.88% \t Validation loss: 1.06 \t Validation acc.: 77.68%\n",
      "Saving best model...\n",
      "Epoch: 12 \t Training loss: 1.09 \t Train acc.: 76.98% \t Validation loss: 1.16 \t Validation acc.: 76.84%\n",
      "EarlyStopping counter: 1 out of 10\n",
      "Epoch: 13 \t Training loss: 1.05 \t Train acc.: 77.20% \t Validation loss: 1.27 \t Validation acc.: 75.60%\n",
      "EarlyStopping counter: 2 out of 10\n",
      "Epoch: 14 \t Training loss: 0.99 \t Train acc.: 78.35% \t Validation loss: 0.96 \t Validation acc.: 79.16%\n",
      "Saving best model...\n",
      "Epoch: 15 \t Training loss: 0.93 \t Train acc.: 78.72% \t Validation loss: 0.92 \t Validation acc.: 79.13%\n",
      "Saving best model...\n",
      "Epoch: 16 \t Training loss: 0.94 \t Train acc.: 78.69% \t Validation loss: 1.06 \t Validation acc.: 77.54%\n",
      "EarlyStopping counter: 1 out of 10\n",
      "Epoch: 17 \t Training loss: 1.10 \t Train acc.: 77.01% \t Validation loss: 0.96 \t Validation acc.: 79.77%\n",
      "EarlyStopping counter: 2 out of 10\n",
      "Epoch: 18 \t Training loss: 0.90 \t Train acc.: 79.05% \t Validation loss: 0.88 \t Validation acc.: 80.54%\n",
      "Saving best model...\n",
      "Epoch: 19 \t Training loss: 0.84 \t Train acc.: 80.13% \t Validation loss: 0.90 \t Validation acc.: 80.44%\n",
      "EarlyStopping counter: 1 out of 10\n",
      "Epoch: 20 \t Training loss: 0.93 \t Train acc.: 79.48% \t Validation loss: 0.86 \t Validation acc.: 80.88%\n",
      "Saving best model...\n",
      "Epoch: 21 \t Training loss: 1.00 \t Train acc.: 78.82% \t Validation loss: 0.92 \t Validation acc.: 79.62%\n",
      "EarlyStopping counter: 1 out of 10\n",
      "Epoch: 22 \t Training loss: 0.94 \t Train acc.: 79.13% \t Validation loss: 0.98 \t Validation acc.: 76.97%\n",
      "EarlyStopping counter: 2 out of 10\n",
      "Epoch: 23 \t Training loss: 0.83 \t Train acc.: 80.66% \t Validation loss: 0.85 \t Validation acc.: 80.97%\n",
      "Saving best model...\n",
      "Epoch: 24 \t Training loss: 0.80 \t Train acc.: 80.71% \t Validation loss: 0.84 \t Validation acc.: 81.20%\n",
      "Saving best model...\n",
      "Epoch: 25 \t Training loss: 0.78 \t Train acc.: 80.94% \t Validation loss: 0.83 \t Validation acc.: 81.80%\n",
      "Saving best model...\n",
      "Epoch: 26 \t Training loss: 0.75 \t Train acc.: 81.65% \t Validation loss: 0.87 \t Validation acc.: 80.13%\n",
      "EarlyStopping counter: 1 out of 10\n",
      "Epoch: 27 \t Training loss: 0.91 \t Train acc.: 80.86% \t Validation loss: 1.07 \t Validation acc.: 77.50%\n",
      "EarlyStopping counter: 2 out of 10\n",
      "Epoch: 28 \t Training loss: 0.80 \t Train acc.: 81.32% \t Validation loss: 0.83 \t Validation acc.: 80.58%\n",
      "EarlyStopping counter: 3 out of 10\n",
      "Epoch: 29 \t Training loss: 0.78 \t Train acc.: 81.23% \t Validation loss: 0.84 \t Validation acc.: 81.31%\n",
      "EarlyStopping counter: 4 out of 10\n",
      "Epoch: 30 \t Training loss: 0.73 \t Train acc.: 81.90% \t Validation loss: 0.84 \t Validation acc.: 81.58%\n",
      "EarlyStopping counter: 5 out of 10\n",
      "Epoch: 31 \t Training loss: 0.92 \t Train acc.: 79.75% \t Validation loss: 1.01 \t Validation acc.: 77.00%\n",
      "EarlyStopping counter: 6 out of 10\n",
      "Epoch: 32 \t Training loss: 0.77 \t Train acc.: 81.42% \t Validation loss: 0.79 \t Validation acc.: 82.25%\n",
      "Saving best model...\n",
      "Epoch: 33 \t Training loss: 0.75 \t Train acc.: 82.17% \t Validation loss: 0.82 \t Validation acc.: 81.21%\n",
      "EarlyStopping counter: 1 out of 10\n",
      "Epoch: 34 \t Training loss: 0.71 \t Train acc.: 82.66% \t Validation loss: 0.81 \t Validation acc.: 82.49%\n",
      "EarlyStopping counter: 2 out of 10\n",
      "Epoch: 35 \t Training loss: 0.78 \t Train acc.: 82.37% \t Validation loss: 0.81 \t Validation acc.: 81.85%\n",
      "EarlyStopping counter: 3 out of 10\n",
      "Epoch: 36 \t Training loss: 0.66 \t Train acc.: 83.58% \t Validation loss: 0.79 \t Validation acc.: 82.29%\n",
      "EarlyStopping counter: 4 out of 10\n",
      "Epoch: 37 \t Training loss: 0.82 \t Train acc.: 81.59% \t Validation loss: 0.89 \t Validation acc.: 79.45%\n",
      "EarlyStopping counter: 5 out of 10\n",
      "Epoch: 38 \t Training loss: 0.77 \t Train acc.: 82.15% \t Validation loss: 0.77 \t Validation acc.: 82.42%\n",
      "Saving best model...\n",
      "Epoch: 39 \t Training loss: 0.62 \t Train acc.: 84.21% \t Validation loss: 0.77 \t Validation acc.: 83.11%\n",
      "Saving best model...\n",
      "Epoch: 40 \t Training loss: 0.60 \t Train acc.: 84.77% \t Validation loss: 0.85 \t Validation acc.: 81.29%\n",
      "EarlyStopping counter: 1 out of 10\n",
      "Epoch: 41 \t Training loss: 0.59 \t Train acc.: 85.14% \t Validation loss: 1.12 \t Validation acc.: 75.78%\n",
      "EarlyStopping counter: 2 out of 10\n",
      "Epoch: 42 \t Training loss: 0.63 \t Train acc.: 84.25% \t Validation loss: 0.78 \t Validation acc.: 82.91%\n",
      "EarlyStopping counter: 3 out of 10\n",
      "Epoch: 43 \t Training loss: 0.55 \t Train acc.: 85.87% \t Validation loss: 1.06 \t Validation acc.: 76.28%\n",
      "EarlyStopping counter: 4 out of 10\n",
      "Epoch: 44 \t Training loss: 0.58 \t Train acc.: 85.55% \t Validation loss: 0.76 \t Validation acc.: 83.02%\n",
      "Saving best model...\n",
      "Epoch: 45 \t Training loss: 0.60 \t Train acc.: 85.28% \t Validation loss: 0.78 \t Validation acc.: 83.16%\n",
      "EarlyStopping counter: 1 out of 10\n",
      "Epoch: 46 \t Training loss: 0.52 \t Train acc.: 87.27% \t Validation loss: 0.83 \t Validation acc.: 84.10%\n",
      "EarlyStopping counter: 2 out of 10\n",
      "Epoch: 47 \t Training loss: 0.50 \t Train acc.: 87.69% \t Validation loss: 0.75 \t Validation acc.: 83.30%\n",
      "Saving best model...\n",
      "Epoch: 48 \t Training loss: 0.50 \t Train acc.: 87.59% \t Validation loss: 0.76 \t Validation acc.: 82.93%\n",
      "EarlyStopping counter: 1 out of 10\n",
      "Epoch: 49 \t Training loss: 0.45 \t Train acc.: 88.81% \t Validation loss: 0.80 \t Validation acc.: 83.79%\n",
      "EarlyStopping counter: 2 out of 10\n",
      "Epoch: 50 \t Training loss: 0.44 \t Train acc.: 89.26% \t Validation loss: 0.78 \t Validation acc.: 83.06%\n",
      "EarlyStopping counter: 3 out of 10\n",
      "Epoch: 51 \t Training loss: 0.42 \t Train acc.: 89.86% \t Validation loss: 0.99 \t Validation acc.: 83.42%\n",
      "EarlyStopping counter: 4 out of 10\n",
      "Epoch: 52 \t Training loss: 0.41 \t Train acc.: 90.20% \t Validation loss: 0.77 \t Validation acc.: 83.05%\n",
      "EarlyStopping counter: 5 out of 10\n",
      "Epoch: 53 \t Training loss: 0.63 \t Train acc.: 86.01% \t Validation loss: 0.81 \t Validation acc.: 83.07%\n",
      "EarlyStopping counter: 6 out of 10\n",
      "Epoch: 54 \t Training loss: 0.50 \t Train acc.: 88.46% \t Validation loss: 1.29 \t Validation acc.: 78.40%\n",
      "EarlyStopping counter: 7 out of 10\n",
      "Epoch: 55 \t Training loss: 0.58 \t Train acc.: 87.03% \t Validation loss: 0.84 \t Validation acc.: 82.46%\n",
      "EarlyStopping counter: 8 out of 10\n",
      "Epoch: 56 \t Training loss: 0.45 \t Train acc.: 89.56% \t Validation loss: 0.80 \t Validation acc.: 83.78%\n",
      "EarlyStopping counter: 9 out of 10\n",
      "Epoch: 57 \t Training loss: 0.43 \t Train acc.: 90.45% \t Validation loss: 0.85 \t Validation acc.: 83.79%\n",
      "EarlyStopping counter: 10 out of 10\n",
      "Early Stopping! \t Training Stopped\n",
      "Saving model...\n"
     ]
    }
   ],
   "source": [
    "history = Train_model(net, patches_train, patches_tr_lb_h, patches_val, patches_val_lb_h, \n",
    "            batch_size, epochs, patience=10, delta=0.001)"
   ]
  },
  {
   "cell_type": "markdown",
   "metadata": {},
   "source": [
    "## Plot training history"
   ]
  },
  {
   "cell_type": "code",
   "execution_count": 15,
   "metadata": {},
   "outputs": [],
   "source": [
    "def graph_training_history(history):\n",
    "    loss_train = history[0]\n",
    "    acc_train = history[1]\n",
    "    loss_test = history[2]\n",
    "    acc_test = history[3]\n",
    "    plt.rcParams['axes.facecolor']='white'\n",
    "    fig = plt.figure(1)\n",
    "\n",
    "    # summarize history for accuracy\n",
    "    plt.subplot(121)\n",
    "    plt.plot(acc_train)\n",
    "    plt.plot(acc_test)\n",
    "    plt.title('model accuracy')\n",
    "    plt.ylabel('accuracy')\n",
    "    plt.xlabel('epoch')\n",
    "    plt.legend(['train', 'validation'], loc='upper left')\n",
    "    plt.tight_layout()\n",
    "\n",
    "    # summarize history for loss\n",
    "    plt.subplot(122)\n",
    "    plt.plot(loss_train)\n",
    "    plt.plot(loss_test)\n",
    "    plt.title('model loss')\n",
    "    plt.ylabel('loss')\n",
    "    plt.xlabel('epoch')\n",
    "    plt.legend(['train', 'validation'], loc='upper right')\n",
    "    plt.tight_layout()\n",
    "    \n",
    "    plt.show()\n",
    "    fig.savefig('weights/history.png', dpi=fig.dpi)"
   ]
  },
  {
   "cell_type": "code",
   "execution_count": 16,
   "metadata": {},
   "outputs": [
    {
     "data": {
      "image/png": "[encoded data removed]",
      "text/plain": [
       "<Figure size 432x288 with 2 Axes>"
      ]
     },
     "metadata": {
      "needs_background": "light"
     },
     "output_type": "display_data"
    }
   ],
   "source": [
    "graph_training_history(history)"
   ]
  },
  {
   "cell_type": "code",
   "execution_count": null,
   "metadata": {},
   "outputs": [],
   "source": []
  }
 ],
 "metadata": {
  "colab": {
   "collapsed_sections": [],
   "name": "Lab_semantic_segmentation.ipynb",
   "provenance": []
  },
  "kernelspec": {
   "display_name": "Python 3",
   "language": "python",
   "name": "python3"
  },
  "language_info": {
   "codemirror_mode": {
    "name": "ipython",
    "version": 3
   },
   "file_extension": ".py",
   "mimetype": "text/x-python",
   "name": "python",
   "nbconvert_exporter": "python",
   "pygments_lexer": "ipython3",
   "version": "3.6.9"
  }
 },
 "nbformat": 4,
 "nbformat_minor": 1
}
